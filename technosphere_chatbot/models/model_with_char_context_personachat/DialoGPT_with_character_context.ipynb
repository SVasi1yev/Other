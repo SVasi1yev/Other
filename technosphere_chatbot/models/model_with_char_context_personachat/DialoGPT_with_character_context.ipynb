{
 "cells": [
  {
   "cell_type": "code",
   "execution_count": 1,
   "metadata": {},
   "outputs": [],
   "source": [
    "# class Args():\n",
    "#     def __init__(self):\n",
    "#         self.output_dir = 'output-small'\n",
    "#         self.model_type = 'gpt2'\n",
    "#         self.model_name_or_path = 'microsoft/DialoGPT-small'\n",
    "#         self.config_name = 'microsoft/DialoGPT-small'\n",
    "#         self.tokenizer_name = 'microsoft/DialoGPT-small'\n",
    "#         self.cache_dir = 'cached'\n",
    "#         self.block_size = 512\n",
    "#         self.do_train = True\n",
    "#         self.do_eval = True\n",
    "#         self.evaluate_during_training = False\n",
    "#         self.per_gpu_train_batch_size = 4\n",
    "#         self.per_gpu_eval_batch_size = 4\n",
    "#         self.gradient_accumulation_steps = 1\n",
    "#         self.learning_rate = 5e-5\n",
    "#         self.weight_decay = 0.0\n",
    "#         self.adam_epsilon = 1e-8\n",
    "#         self.max_grad_norm = 1.0\n",
    "#         self.num_train_epochs = 3\n",
    "#         self.max_steps = -1\n",
    "#         self.warmup_steps = 0\n",
    "#         self.logging_steps = 1000\n",
    "#         self.save_steps = 3500\n",
    "#         self.save_total_limit = None\n",
    "#         self.eval_all_checkpoints = False\n",
    "#         self.no_cuda = False\n",
    "#         self.overwrite_output_dir = True\n",
    "#         self.overwrite_cache = True\n",
    "#         self.should_continue = False\n",
    "#         self.seed = 42\n",
    "#         self.local_rank = -1\n",
    "#         self.fp16 = False\n",
    "#         self.fp16_opt_level = 'O1'"
   ]
  },
  {
   "cell_type": "code",
   "execution_count": 2,
   "metadata": {},
   "outputs": [],
   "source": [
    "# import glob\n",
    "# import logging\n",
    "# import os\n",
    "# import pickle\n",
    "# import random\n",
    "# import re\n",
    "# import shutil\n",
    "# from typing import Dict, List, Tuple\n",
    "\n",
    "# import pandas as pd\n",
    "# import numpy as np\n",
    "# import torch\n",
    "\n",
    "# from sklearn.model_selection import train_test_split\n",
    "\n",
    "# from torch.nn.utils.rnn import pad_sequence\n",
    "# from torch.utils.data import DataLoader, Dataset, RandomSampler, SequentialSampler\n",
    "# from torch.utils.data.distributed import DistributedSampler\n",
    "# from tqdm.notebook import tqdm, trange\n",
    "\n",
    "# from pathlib import Path\n",
    "\n",
    "# from transformers import (\n",
    "#     MODEL_WITH_LM_HEAD_MAPPING,\n",
    "#     WEIGHTS_NAME,\n",
    "#     AdamW,\n",
    "#     AutoConfig,\n",
    "#     AutoModelWithLMHead,\n",
    "#     AutoTokenizer,\n",
    "#     PreTrainedModel,\n",
    "#     PreTrainedTokenizer,\n",
    "#     get_linear_schedule_with_warmup,\n",
    "# )\n",
    "\n",
    "\n",
    "# try:\n",
    "#     from torch.utils.tensorboard import SummaryWriter\n",
    "# except ImportError:\n",
    "#     from tensorboardX import SummaryWriter"
   ]
  },
  {
   "cell_type": "code",
   "execution_count": 3,
   "metadata": {},
   "outputs": [],
   "source": [
    "# tokenizer = AutoTokenizer.from_pretrained(\"microsoft/DialoGPT-medium\")\n",
    "# model = AutoModelWithLMHead.from_pretrained(\"microsoft/DialoGPT-medium\")"
   ]
  },
  {
   "cell_type": "code",
   "execution_count": 4,
   "metadata": {},
   "outputs": [],
   "source": [
    "# # Let's chat for 5 lines\n",
    "# for step in range(5):\n",
    "#     # encode the new user input, add the eos_token and return a tensor in Pytorch\n",
    "#     new_user_input_ids = tokenizer.encode(input(\">> User:\") + tokenizer.eos_token, return_tensors='pt')\n",
    "\n",
    "#     # append the new user input tokens to the chat history\n",
    "#     bot_input_ids = torch.cat([chat_history_ids, new_user_input_ids], dim=-1) if step > 0 else new_user_input_ids\n",
    "\n",
    "#     # generated a response while limiting the total chat history to 1000 tokens    \n",
    "#     chat_history_ids = model.generate(\n",
    "#     bot_input_ids, max_length=1000,\n",
    "#     pad_token_id=tokenizer.eos_token_id\n",
    "#     )\n",
    "\n",
    "#     # pretty print last ouput tokens from bot\n",
    "#     print(\"DialoGPT: {}\".format(tokenizer.decode(chat_history_ids[:, bot_input_ids.shape[-1]:][0], skip_special_tokens=True)))"
   ]
  },
  {
   "cell_type": "code",
   "execution_count": 5,
   "metadata": {},
   "outputs": [],
   "source": [
    "from transformers import (\n",
    "    AutoModelWithLMHead,\n",
    "    AutoTokenizer,\n",
    "    OpenAIGPTDoubleHeadsModel,\n",
    "    OpenAIGPTLMHeadModel,\n",
    "    OpenAIGPTTokenizer,\n",
    "    AdamW,\n",
    "    get_linear_schedule_with_warmup\n",
    ")\n",
    "\n",
    "import pandas as pd\n",
    "import numpy as np\n",
    "from sklearn.model_selection import train_test_split\n",
    "import matplotlib.pyplot as plt\n",
    "\n",
    "from IPython.display import clear_output\n",
    "import sys\n",
    "from tqdm import tqdm\n",
    "import json\n",
    "\n",
    "import torch\n",
    "from torch.utils.data import DataLoader, Dataset, RandomSampler, SequentialSampler\n",
    "from torch.nn.utils.rnn import pad_sequence"
   ]
  },
  {
   "cell_type": "code",
   "execution_count": 6,
   "metadata": {},
   "outputs": [
    {
     "name": "stderr",
     "output_type": "stream",
     "text": [
      "/home/svasilyev/anaconda3/envs/venv/lib/python3.8/site-packages/transformers/modeling_auto.py:781: FutureWarning: The class `AutoModelWithLMHead` is deprecated and will be removed in a future version. Please use `AutoModelForCausalLM` for causal language models, `AutoModelForMaskedLM` for masked language models and `AutoModelForSeq2SeqLM` for encoder-decoder models.\n",
      "  warnings.warn(\n"
     ]
    }
   ],
   "source": [
    "tokenizer = AutoTokenizer.from_pretrained(\"microsoft/DialoGPT-small\")\n",
    "model = AutoModelWithLMHead.from_pretrained(\"microsoft/DialoGPT-small\")"
   ]
  },
  {
   "cell_type": "code",
   "execution_count": 7,
   "metadata": {},
   "outputs": [
    {
     "data": {
      "text/plain": [
       "5"
      ]
     },
     "execution_count": 7,
     "metadata": {},
     "output_type": "execute_result"
    }
   ],
   "source": [
    "SPECIAL_TOKENS = {\n",
    "    'bos_token': '<bos>', \n",
    "    'eos_token': '<eos>', \n",
    "    'pad_token': '<pad>',\n",
    "#     'unk_token': '<unk>',\n",
    "    'additional_special_tokens': ['<speaker1>', '<speaker2>']\n",
    "}\n",
    "tokenizer.add_special_tokens(SPECIAL_TOKENS)"
   ]
  },
  {
   "cell_type": "code",
   "execution_count": 8,
   "metadata": {},
   "outputs": [
    {
     "data": {
      "text/plain": [
       "Embedding(50262, 768)"
      ]
     },
     "execution_count": 8,
     "metadata": {},
     "output_type": "execute_result"
    }
   ],
   "source": [
    "model.resize_token_embeddings(len(tokenizer))"
   ]
  },
  {
   "cell_type": "code",
   "execution_count": null,
   "metadata": {},
   "outputs": [],
   "source": []
  },
  {
   "cell_type": "code",
   "execution_count": null,
   "metadata": {},
   "outputs": [],
   "source": []
  },
  {
   "cell_type": "code",
   "execution_count": null,
   "metadata": {},
   "outputs": [],
   "source": []
  },
  {
   "cell_type": "code",
   "execution_count": 9,
   "metadata": {},
   "outputs": [],
   "source": [
    "from itertools import chain"
   ]
  },
  {
   "cell_type": "code",
   "execution_count": 10,
   "metadata": {},
   "outputs": [],
   "source": [
    "persona = [[\"i\", \"like\", \"playing\", \"football\", \".\"],\n",
    "           [\"i\", \"am\", \"from\", \"NYC\", \".\"]]\n",
    "history = [[\"hello\", \"how\", \"are\", \"you\", \"?\"],\n",
    "           [\"i\", \"am\", \"fine\", \"thanks\", \".\"]]\n",
    "reply = [\"great\", \"to\", \"hear\"]\n",
    "bos, eos, speaker1, speaker2 = \"<bos>\", \"<eos>\", \"<speaker1>\", \"<speaker2>\""
   ]
  },
  {
   "cell_type": "code",
   "execution_count": 11,
   "metadata": {},
   "outputs": [],
   "source": [
    "def build_inputs(persona, history, reply):\n",
    "    # Build our sequence by adding delimiters and concatenating\n",
    "    sequence = [[bos] + list(chain(*persona))] + history + [reply + [eos]]\n",
    "    sequence = [sequence[0]] + [ [speaker2 if (len(sequence)-i) % 2 else speaker1] + s\n",
    "                                for i, s in enumerate(sequence[1:])]\n",
    "    # Build our word, segments and position inputs from the sequence\n",
    "    words = list(chain(*sequence))                          # word tokens\n",
    "    segments = [speaker2 if i % 2 else speaker1             # segment tokens\n",
    "                for i, s in enumerate(sequence) for _ in s]\n",
    "    position = list(range(len(words)))                      # position tokens\n",
    "    return words, segments, position, sequence"
   ]
  },
  {
   "cell_type": "code",
   "execution_count": 12,
   "metadata": {},
   "outputs": [],
   "source": [
    "words, segments, position, sequence = build_inputs(persona, history, reply)"
   ]
  },
  {
   "cell_type": "code",
   "execution_count": 13,
   "metadata": {},
   "outputs": [],
   "source": [
    "lm_targets = ([-100] * sum(len(s) for s in sequence[:-1])) \\\n",
    "             + [-100] + tokenizer.convert_tokens_to_ids(sequence[-1][1:])\n",
    "last_token = len(words) - 1\n",
    "padding_length = len(words)\n",
    "def pad(x, padding):\n",
    "    return x + [padding] * (padding_length - len(x))\n",
    "\n",
    "(words, segments) = [pad(tokenizer.convert_tokens_to_ids(x), '<pad>')\n",
    "                                   for x in (words, segments)]\n",
    "lm_targets = pad(lm_targets, -1)\n",
    "input_ids = torch.tensor([words], dtype=torch.long)\n",
    "token_type_ids = torch.tensor([segments], dtype=torch.long)\n",
    "lm_labels = torch.tensor([lm_targets], dtype=torch.long)\n"
   ]
  },
  {
   "cell_type": "code",
   "execution_count": 14,
   "metadata": {},
   "outputs": [],
   "source": [
    "lm_loss = model(input_ids, labels=lm_labels, token_type_ids=token_type_ids)"
   ]
  },
  {
   "cell_type": "code",
   "execution_count": null,
   "metadata": {},
   "outputs": [],
   "source": []
  },
  {
   "cell_type": "code",
   "execution_count": null,
   "metadata": {},
   "outputs": [],
   "source": []
  },
  {
   "cell_type": "code",
   "execution_count": null,
   "metadata": {},
   "outputs": [],
   "source": []
  },
  {
   "cell_type": "code",
   "execution_count": 15,
   "metadata": {},
   "outputs": [
    {
     "name": "stdout",
     "output_type": "stream",
     "text": [
      "10904\n"
     ]
    }
   ],
   "source": [
    "with open('personachat.json') as f:\n",
    "    data = json.load(f)\n",
    "print(len(data))\n",
    "train_data = data[:500]\n",
    "eval_data = data[500:750]"
   ]
  },
  {
   "cell_type": "code",
   "execution_count": null,
   "metadata": {},
   "outputs": [],
   "source": []
  },
  {
   "cell_type": "code",
   "execution_count": 16,
   "metadata": {},
   "outputs": [],
   "source": [
    "class PersonaChatDatasetJSON(Dataset):\n",
    "    def __init__(self, data, tokenizer, context_len):\n",
    "        self.examples = []\n",
    "        speaker1_token_id = tokenizer.encode('<speaker1>')\n",
    "        speaker2_token_id = tokenizer.encode('<speaker2>')\n",
    "        if isinstance(data, str):\n",
    "            with open(data) as f:\n",
    "                self.examples = json.load(f)\n",
    "        else:\n",
    "            self.examples = []\n",
    "            for dialog in tqdm(data):\n",
    "                if len(dialog[2]) < context_len + 1:\n",
    "                    continue\n",
    "                persona1 = []\n",
    "                for e in dialog[0]:\n",
    "                    persona1 += tokenizer.encode(e)\n",
    "                persona2 = []\n",
    "                for e in dialog[1]:\n",
    "                    persona2 += tokenizer.encode(e)\n",
    "\n",
    "                for i in range(context_len, len(dialog[2])):\n",
    "                    input_ids = [tokenizer.bos_token_id]\n",
    "                    input_ids += persona1 if i % 2 == 0 else persona2\n",
    "                    for k, j in enumerate(range(i - context_len, i+1)):\n",
    "                        input_ids += speaker1_token_id if k % 2 == 0 else speaker2_token_id\n",
    "                        input_ids += tokenizer.encode(dialog[2][j])\n",
    "                    input_ids += [tokenizer.eos_token_id]\n",
    "                    labels = [-100] * len(input_ids)\n",
    "                    for j in range(len(input_ids)-len(tokenizer.encode(dialog[2][i]))-1, len(input_ids)):\n",
    "                        labels[j] = input_ids[j]\n",
    "                    segments = [0] * len(input_ids)\n",
    "                    k = 0\n",
    "                    for j in range(len(input_ids)):\n",
    "                        if input_ids[j] == speaker1_token_id[0] or input_ids[j] == speaker2_token_id[0]:\n",
    "                            k += 1\n",
    "                        segments[j] = k % 2\n",
    "                    self.examples.append((input_ids, labels, segments))\n",
    "                    \n",
    "    def save(self, filename):\n",
    "        with open(filename, 'w') as f:\n",
    "            json.dump(self.examples, f)\n",
    "    \n",
    "    def __len__(self):\n",
    "        return len(self.examples)\n",
    "    \n",
    "    def __getitem__(self, item):\n",
    "        return torch.transpose(torch.tensor(self.examples[item], dtype=torch.long), 0, 1)"
   ]
  },
  {
   "cell_type": "code",
   "execution_count": 17,
   "metadata": {},
   "outputs": [],
   "source": [
    "def collate(examples):\n",
    "#     print(examples)\n",
    "    if tokenizer._pad_token is None:\n",
    "        return pad_sequence(examples, batch_first=True)\n",
    "    return pad_sequence(examples, batch_first=True, padding_value=tokenizer.pad_token_id)"
   ]
  },
  {
   "cell_type": "code",
   "execution_count": 18,
   "metadata": {},
   "outputs": [
    {
     "name": "stderr",
     "output_type": "stream",
     "text": [
      "100%|██████████| 500/500 [00:02<00:00, 174.16it/s]\n"
     ]
    }
   ],
   "source": [
    "train_dataset = PersonaChatDatasetJSON(train_data, tokenizer, 1)\n",
    "train_dataset.save('preproc_PC_train_01.json')"
   ]
  },
  {
   "cell_type": "code",
   "execution_count": 19,
   "metadata": {},
   "outputs": [
    {
     "name": "stderr",
     "output_type": "stream",
     "text": [
      "100%|██████████| 250/250 [00:01<00:00, 229.08it/s]\n"
     ]
    }
   ],
   "source": [
    "eval_dataset = PersonaChatDatasetJSON(eval_data, tokenizer, 0)\n",
    "eval_dataset.save('preproc_PC_eval_01.json')"
   ]
  },
  {
   "cell_type": "code",
   "execution_count": 20,
   "metadata": {},
   "outputs": [],
   "source": [
    "train_dataset = PersonaChatDatasetJSON('preproc_PC_train_01.json', tokenizer, 0)\n",
    "train_sampler = RandomSampler(train_dataset) \n",
    "train_dataloader = DataLoader(\n",
    "    train_dataset, sampler=train_sampler,\n",
    "    batch_size=1, collate_fn=collate\n",
    ")"
   ]
  },
  {
   "cell_type": "code",
   "execution_count": 21,
   "metadata": {},
   "outputs": [],
   "source": [
    "eval_dataset = PersonaChatDatasetJSON('preproc_PC_eval_01.json', tokenizer, 0)\n",
    "eval_sampler = SequentialSampler(eval_dataset)\n",
    "eval_dataloader = DataLoader(\n",
    "    eval_dataset, sampler=eval_sampler,\n",
    "    batch_size=1, collate_fn=collate\n",
    ")"
   ]
  },
  {
   "cell_type": "code",
   "execution_count": 22,
   "metadata": {},
   "outputs": [
    {
     "name": "stdout",
     "output_type": "stream",
     "text": [
      "tensor([[50257,  -100,     0],\n",
      "        [   72,  -100,     0],\n",
      "        [  588,  -100,     0],\n",
      "        [  460,  -100,     0],\n",
      "        [  768,  -100,     0],\n",
      "        [  290,  -100,     0],\n",
      "        [  348,  -100,     0],\n",
      "        [  715,  -100,     0],\n",
      "        [ 1359,  -100,     0],\n",
      "        [   13,  -100,     0],\n",
      "        [ 1462,  -100,     0],\n",
      "        [ 2652,  -100,     0],\n",
      "        [  287,  -100,     0],\n",
      "        [ 5485,  -100,     0],\n",
      "        [  837,  -100,     0],\n",
      "        [ 1312,  -100,     0],\n",
      "        [15505,  -100,     0],\n",
      "        [ 1125,  -100,     0],\n",
      "        [  316,  -100,     0],\n",
      "        [39095,  -100,     0],\n",
      "        [  379,  -100,     0],\n",
      "        [  262,  -100,     0],\n",
      "        [26626,  -100,     0],\n",
      "        [   13,  -100,     0],\n",
      "        [  259,  -100,     0],\n",
      "        [ 1029,  -100,     0],\n",
      "        [ 1524,  -100,     0],\n",
      "        [  837,  -100,     0],\n",
      "        [ 1312,  -100,     0],\n",
      "        [ 1625,  -100,     0],\n",
      "        [  287,  -100,     0],\n",
      "        [  718,  -100,     0],\n",
      "        [  400,  -100,     0],\n",
      "        [  287,  -100,     0],\n",
      "        [  262,  -100,     0],\n",
      "        [ 1802,  -100,     0],\n",
      "        [16430,  -100,     0],\n",
      "        [14470,  -100,     0],\n",
      "        [   13,  -100,     0],\n",
      "        [   72,  -100,     0],\n",
      "        [ 4483,  -100,     0],\n",
      "        [11541,  -100,     0],\n",
      "        [ 6174,  -100,     0],\n",
      "        [   13,  -100,     0],\n",
      "        [50260,  -100,     1],\n",
      "        [ 5303,  -100,     1],\n",
      "        [  837,  -100,     1],\n",
      "        [  703,  -100,     1],\n",
      "        [  389,  -100,     1],\n",
      "        [  345,  -100,     1],\n",
      "        [ 1804,  -100,     1],\n",
      "        [ 5633,  -100,     1],\n",
      "        [ 1312,  -100,     1],\n",
      "        [  716,  -100,     1],\n",
      "        [ 1972,  -100,     1],\n",
      "        [ 3492,  -100,     1],\n",
      "        [  284,  -100,     1],\n",
      "        [  466,  -100,     1],\n",
      "        [  617,  -100,     1],\n",
      "        [ 1125,  -100,     1],\n",
      "        [  316,  -100,     1],\n",
      "        [  993,  -100,     1],\n",
      "        [20023,  -100,     1],\n",
      "        [  284,  -100,     1],\n",
      "        [ 2652,  -100,     1],\n",
      "        [  287,  -100,     1],\n",
      "        [ 5485,  -100,     1],\n",
      "        [  764,  -100,     1],\n",
      "        [50261,  -100,     0],\n",
      "        [ 5832,  5832,     0],\n",
      "        [ 1276,  1276,     0],\n",
      "        [  307,   307,     0],\n",
      "        [  845,   845,     0],\n",
      "        [ 3049,  3049,     0],\n",
      "        [  764,   764,     0],\n",
      "        [10988, 10988,     0],\n",
      "        [  318,   318,     0],\n",
      "        [  530,   530,     0],\n",
      "        [  286,   286,     0],\n",
      "        [  616,   616,     0],\n",
      "        [ 4004,  4004,     0],\n",
      "        [45578, 45578,     0],\n",
      "        [  764,   764,     0],\n",
      "        [50258, 50258,     0]])\n"
     ]
    }
   ],
   "source": [
    "for batch in train_dataset:\n",
    "    print(batch)\n",
    "    break"
   ]
  },
  {
   "cell_type": "code",
   "execution_count": 23,
   "metadata": {},
   "outputs": [],
   "source": [
    "BATCH_SIZE = 1\n",
    "WEIGHT_DECAY = 0.0\n",
    "LEARNING_RATE = 5e-5\n",
    "ADAM_EPSILON = 1e-8\n",
    "WARMUP_STEPS = 0\n",
    "EPOCH_NUM = 2\n",
    "DEVICE = 'cuda'"
   ]
  },
  {
   "cell_type": "code",
   "execution_count": 24,
   "metadata": {},
   "outputs": [],
   "source": [
    "def train(model, tokenizer, train_dataset, eval_dataset):\n",
    "    model.to(DEVICE)\n",
    "    \n",
    "    train_sampler = RandomSampler(train_dataset) \n",
    "    train_dataloader = DataLoader(\n",
    "        train_dataset, sampler=train_sampler,\n",
    "        batch_size=BATCH_SIZE, collate_fn=collate\n",
    "    )\n",
    "    \n",
    "    eval_sampler = SequentialSampler(eval_dataset)\n",
    "    eval_dataloader = DataLoader(\n",
    "        eval_dataset, sampler=eval_sampler,\n",
    "        batch_size=BATCH_SIZE, collate_fn=collate\n",
    "    )\n",
    "    \n",
    "    model.resize_token_embeddings(len(tokenizer))\n",
    "    \n",
    "    no_decay = [\"bias\", \"LayerNorm.weight\"]\n",
    "    optimizer_grouped_parameters = [\n",
    "        {\n",
    "            \"params\": [p for n, p in model.named_parameters() if not any(nd in n for nd in no_decay)],\n",
    "            \"weight_decay\": WEIGHT_DECAY,\n",
    "        },\n",
    "        {\"params\": [p for n, p in model.named_parameters() if any(nd in n for nd in no_decay)], \"weight_decay\": 0.0},\n",
    "    ]\n",
    "    optimizer = AdamW(optimizer_grouped_parameters, lr=LEARNING_RATE, eps=ADAM_EPSILON)\n",
    "    scheduler = get_linear_schedule_with_warmup(\n",
    "        optimizer, num_warmup_steps=WARMUP_STEPS, num_training_steps=len(train_dataset) * EPOCH_NUM\n",
    "    )\n",
    "    \n",
    "    train_losses_epochs = []\n",
    "    eval_losses_epochs = []\n",
    "    for epoch in range(EPOCH_NUM):\n",
    "        model.train()\n",
    "        train_losses = []\n",
    "        for batch in tqdm(train_dataloader):\n",
    "            inputs, labels, types = batch[:, :, 0], batch[:, :, 1], batch[:, :, 2]\n",
    "            inputs = inputs.to(DEVICE)\n",
    "            labels = labels.to(DEVICE)\n",
    "            types = types.to(DEVICE)\n",
    "#             model.train()\n",
    "            outputs = model(inputs, labels=labels, token_type_ids=types)\n",
    "            loss = outputs[0]\n",
    "\n",
    "            model.zero_grad()\n",
    "            loss.backward()\n",
    "            optimizer.step()\n",
    "            scheduler.step()\n",
    "            \n",
    "            train_losses.append(loss.item())\n",
    "        \n",
    "        model.eval()\n",
    "        eval_losses = []\n",
    "        for batch in eval_dataloader:\n",
    "            inputs, labels, types = batch[:, :, 0], batch[:, :, 1], batch[:, :, 2]\n",
    "            inputs = inputs.to(DEVICE)\n",
    "            labels = labels.to(DEVICE)\n",
    "            types = types.to(DEVICE)\n",
    "            \n",
    "            with torch.no_grad():\n",
    "                outputs = model(inputs, labels=labels, token_type_ids=types)\n",
    "            eval_losses = outputs[0].item()\n",
    "            \n",
    "        train_losses_epochs.append(np.mean(train_losses))\n",
    "        eval_losses_epochs.append(np.mean(eval_losses))\n",
    "            \n",
    "        clear_output(True)          \n",
    "        sys.stdout.write('\\rEpoch {0}... (Train/Test) Loss: {1:.3f}/{2:.3f}, Perplexity: {3:.3f}/{4:.3f}'.format(\n",
    "                    epoch, train_losses_epochs[-1], eval_losses_epochs[-1], np.exp(train_losses_epochs[-1]), np.exp(eval_losses_epochs[-1])))\n",
    "        if epoch > 0:\n",
    "            plt.figure(figsize=(12, 5))\n",
    "            plt.plot(train_losses_epochs[0:], label='Train')\n",
    "            plt.plot(eval_losses_epochs[0:], label='Valid')\n",
    "            plt.xlabel('Epochs', fontsize=16)\n",
    "            plt.ylabel('Loss', fontsize=16)\n",
    "            plt.legend(loc=0, fontsize=16)\n",
    "            plt.grid('on')\n",
    "            plt.show()"
   ]
  },
  {
   "cell_type": "code",
   "execution_count": 25,
   "metadata": {
    "scrolled": true
   },
   "outputs": [
    {
     "name": "stdout",
     "output_type": "stream",
     "text": [
      "\r",
      "Epoch 1... (Train/Test) Loss: 3.094/3.867, Perplexity: 22.067/47.807"
     ]
    },
    {
     "data": {
      "image/png": "[encoded data removed]",
      "text/plain": [
       "<Figure size 864x360 with 1 Axes>"
      ]
     },
     "metadata": {
      "needs_background": "light"
     },
     "output_type": "display_data"
    }
   ],
   "source": [
    "train(model, tokenizer, train_dataset, eval_dataset)"
   ]
  },
  {
   "cell_type": "code",
   "execution_count": 26,
   "metadata": {},
   "outputs": [
    {
     "data": {
      "text/plain": [
       "('personachat_model/vocab.json',\n",
       " 'personachat_model/merges.txt',\n",
       " 'personachat_model/special_tokens_map.json',\n",
       " 'personachat_model/added_tokens.json')"
      ]
     },
     "execution_count": 26,
     "metadata": {},
     "output_type": "execute_result"
    }
   ],
   "source": [
    "model.save_pretrained('personachat_model')\n",
    "tokenizer.save_pretrained('personachat_model')"
   ]
  },
  {
   "cell_type": "code",
   "execution_count": 27,
   "metadata": {},
   "outputs": [],
   "source": [
    "model = AutoModelWithLMHead.from_pretrained('personachat_model').to(DEVICE)\n",
    "tokenizer = AutoTokenizer.from_pretrained('personachat_model')"
   ]
  },
  {
   "cell_type": "code",
   "execution_count": 28,
   "metadata": {},
   "outputs": [],
   "source": [
    "def get_response(model, tokenizer, context, persona):\n",
    "    speaker1_token_id = tokenizer.encode('<speaker1>')\n",
    "    speaker2_token_id = tokenizer.encode('<speaker2>')\n",
    "    \n",
    "    persona_code = []\n",
    "    for e in persona:\n",
    "        persona_code += tokenizer.encode(e)\n",
    "\n",
    "    input_ids = [tokenizer.bos_token_id]\n",
    "    input_ids += persona_code\n",
    "    for i in range(len(context)):\n",
    "        input_ids += speaker1_token_id if i % 2 == 0 else speaker2_token_id\n",
    "        input_ids += tokenizer.encode(context[i])\n",
    "    input_ids += [tokenizer.eos_token_id]\n",
    "    segments = [0] * len(input_ids)\n",
    "    k = 0\n",
    "    for i in range(len(input_ids)):\n",
    "        if input_ids[i] == speaker1_token_id[0] or input_ids[i] == speaker2_token_id[0]:\n",
    "            k += 1\n",
    "        segments[i] = k % 2\n",
    "    \n",
    "    inputs = torch.tensor(input_ids, device=DEVICE).view(1, -1)\n",
    "    types = torch.tensor(segments, device=DEVICE).view(1, -1)\n",
    "    \n",
    "    response = model.generate(\n",
    "        inputs, max_length=200,\n",
    "        pad_token_id=tokenizer.eos_token_id,\n",
    "        no_repeat_ngram_size=3,\n",
    "        do_sample=True,\n",
    "        top_k=100,\n",
    "        top_p=0.7,\n",
    "        temperature=0.8,\n",
    "        token_type_ids=types\n",
    "    )\n",
    "    return tokenizer.decode(response[0,:], skip_special_tokens=True)"
   ]
  },
  {
   "cell_type": "code",
   "execution_count": null,
   "metadata": {},
   "outputs": [],
   "source": []
  },
  {
   "cell_type": "code",
   "execution_count": 29,
   "metadata": {},
   "outputs": [
    {
     "data": {
      "text/plain": [
       "[3666, 1438, 318, 1757, 13]"
      ]
     },
     "execution_count": 29,
     "metadata": {},
     "output_type": "execute_result"
    }
   ],
   "source": [
    "tokenizer.encode('My name is John.')"
   ]
  },
  {
   "cell_type": "code",
   "execution_count": 30,
   "metadata": {},
   "outputs": [],
   "source": [
    "persona = [\n",
    "    'My name is John.',\n",
    "    'I am living in Hew York.'\n",
    "]\n",
    "context = [\n",
    "    'Hi, how are you?',\n",
    "    'I am great. Where are you from?'\n",
    "]"
   ]
  },
  {
   "cell_type": "code",
   "execution_count": 31,
   "metadata": {},
   "outputs": [
    {
     "data": {
      "text/plain": [
       "'My name is John.I am living in Hew York.Hi, how are you?I am great. Where are you from?i am from the us. where are you?i have never been to japan.i like to go there.nice. i have never left the us!i live in the us too.oh ok. how about you?i am in california.you?hi. i am from japan, how about yourself?great. i like to travel.great! where are u from?sounds nice..where are you going?the beach?gonna?wonderful. you? i am in the beach? i work?y?very good.. you. you like you??you... just done?..???. you!..!. you just dancing?? you'"
      ]
     },
     "execution_count": 31,
     "metadata": {},
     "output_type": "execute_result"
    }
   ],
   "source": [
    "get_response(model, tokenizer, context, persona)"
   ]
  },
  {
   "cell_type": "code",
   "execution_count": null,
   "metadata": {},
   "outputs": [],
   "source": []
  },
  {
   "cell_type": "code",
   "execution_count": null,
   "metadata": {},
   "outputs": [],
   "source": []
  }
 ],
 "metadata": {
  "kernelspec": {
   "display_name": "Python 3",
   "language": "python",
   "name": "python3"
  },
  "language_info": {
   "codemirror_mode": {
    "name": "ipython",
    "version": 3
   },
   "file_extension": ".py",
   "mimetype": "text/x-python",
   "name": "python",
   "nbconvert_exporter": "python",
   "pygments_lexer": "ipython3",
   "version": "3.8.5"
  }
 },
 "nbformat": 4,
 "nbformat_minor": 4
}
